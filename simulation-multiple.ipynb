{
 "cells": [
  {
   "cell_type": "code",
   "execution_count": 1,
   "metadata": {},
   "outputs": [],
   "source": [
    "from pprint import pprint\n",
    "from enemy import Enemy\n",
    "from character import Seele\n",
    "from battle_simulation import Battle\n",
    "from random import randint"
   ]
  },
  {
   "cell_type": "code",
   "execution_count": 5,
   "metadata": {},
   "outputs": [
    {
     "name": "stdout",
     "output_type": "stream",
     "text": [
      "141713.0 39.75% 120\n",
      "141713.0 39.56% 120\n"
     ]
    },
    {
     "ename": "KeyboardInterrupt",
     "evalue": "",
     "output_type": "error",
     "traceback": [
      "\u001b[1;31m---------------------------------------------------------------------------\u001b[0m",
      "\u001b[1;31mKeyboardInterrupt\u001b[0m                         Traceback (most recent call last)",
      "Cell \u001b[1;32mIn[5], line 14\u001b[0m\n\u001b[0;32m     12\u001b[0m seele1\u001b[38;5;241m.\u001b[39mset_attack_relic_substats(\u001b[38;5;241m5\u001b[39m,\u001b[38;5;241m5\u001b[39m,\u001b[38;5;241m5\u001b[39m,\u001b[38;5;241m9\u001b[39m,\u001b[38;5;241m9\u001b[39m)\n\u001b[0;32m     13\u001b[0m battle \u001b[38;5;241m=\u001b[39m Battle(\u001b[38;5;241m450\u001b[39m,[seele1],enemy)\n\u001b[1;32m---> 14\u001b[0m [dmg, kill, kill_timestamp] \u001b[38;5;241m=\u001b[39m \u001b[43mbattle\u001b[49m\u001b[38;5;241;43m.\u001b[39;49m\u001b[43mprogress\u001b[49m\u001b[43m(\u001b[49m\u001b[43m)\u001b[49m\n\u001b[0;32m     15\u001b[0m \u001b[38;5;28;01mif\u001b[39;00m kill:\n\u001b[0;32m     16\u001b[0m     kill_count \u001b[38;5;241m+\u001b[39m\u001b[38;5;241m=\u001b[39m \u001b[38;5;241m1\u001b[39m\n",
      "File \u001b[1;32mc:\\Users\\Mathew\\Desktop\\HSR Simulation\\battle_simulation.py:67\u001b[0m, in \u001b[0;36mBattle.progress\u001b[1;34m(self, unitlist, target)\u001b[0m\n\u001b[0;32m     64\u001b[0m     \u001b[38;5;28mself\u001b[39m\u001b[38;5;241m.\u001b[39mtimestamp \u001b[38;5;241m-\u001b[39m\u001b[38;5;241m=\u001b[39m timestamp_collapse\n\u001b[0;32m     66\u001b[0m     \u001b[38;5;66;03m# The unit with runway length 0 moves\u001b[39;00m\n\u001b[1;32m---> 67\u001b[0m     damage_exp \u001b[38;5;241m=\u001b[39m \u001b[43munit_to_move\u001b[49m\u001b[38;5;241;43m.\u001b[39;49m\u001b[43mmove\u001b[49m\u001b[43m(\u001b[49m\u001b[38;5;28;43mself\u001b[39;49m\u001b[43m,\u001b[49m\u001b[43m \u001b[49m\u001b[43mtarget\u001b[49m\u001b[43m)\u001b[49m\n\u001b[0;32m     69\u001b[0m \u001b[38;5;66;03m# If the move deals damage\u001b[39;00m\n\u001b[0;32m     70\u001b[0m \u001b[38;5;28;01mif\u001b[39;00m damage_exp:\n\u001b[0;32m     71\u001b[0m     \n\u001b[0;32m     72\u001b[0m     \u001b[38;5;66;03m# Add damage of this turn to dmg_exp\u001b[39;00m\n",
      "File \u001b[1;32mc:\\Users\\Mathew\\Desktop\\HSR Simulation\\character_template.py:148\u001b[0m, in \u001b[0;36mCharacter.move\u001b[1;34m(self, battle, target, ultimate)\u001b[0m\n\u001b[0;32m    146\u001b[0m \u001b[38;5;28;01mdef\u001b[39;00m \u001b[38;5;21mmove\u001b[39m(\u001b[38;5;28mself\u001b[39m, battle, target: Enemy, ultimate: \u001b[38;5;28mbool\u001b[39m \u001b[38;5;241m=\u001b[39m \u001b[38;5;28;01mFalse\u001b[39;00m) \u001b[38;5;241m-\u001b[39m\u001b[38;5;241m>\u001b[39m \u001b[38;5;28mfloat\u001b[39m:\n\u001b[0;32m    147\u001b[0m     \u001b[38;5;66;03m# Start turn, calculating buffs and stats\u001b[39;00m\n\u001b[1;32m--> 148\u001b[0m     \u001b[43mbattle\u001b[49m\u001b[38;5;241;43m.\u001b[39;49m\u001b[43mturn_start\u001b[49m\u001b[43m(\u001b[49m\u001b[38;5;28;43mself\u001b[39;49m\u001b[43m,\u001b[49m\u001b[43m \u001b[49m\u001b[43multimate\u001b[49m\u001b[43m)\u001b[49m\n\u001b[0;32m    149\u001b[0m     \u001b[38;5;28mself\u001b[39m\u001b[38;5;241m.\u001b[39mstart_of_turn(battle, target)\n\u001b[0;32m    150\u001b[0m     \u001b[38;5;28mself\u001b[39m\u001b[38;5;241m.\u001b[39mcalc_stats()\n",
      "File \u001b[1;32mc:\\Users\\Mathew\\Desktop\\HSR Simulation\\battle_simulation.py:130\u001b[0m, in \u001b[0;36mBattle.turn_start\u001b[1;34m(self, char, ultimate)\u001b[0m\n\u001b[0;32m    127\u001b[0m         \u001b[38;5;28;01melse\u001b[39;00m:\n\u001b[0;32m    128\u001b[0m             char\u001b[38;5;241m.\u001b[39mbuffs[i][j][\u001b[38;5;124m'\u001b[39m\u001b[38;5;124mturn\u001b[39m\u001b[38;5;124m'\u001b[39m] \u001b[38;5;241m-\u001b[39m\u001b[38;5;241m=\u001b[39m \u001b[38;5;241m1\u001b[39m\n\u001b[1;32m--> 130\u001b[0m \u001b[43mchar\u001b[49m\u001b[38;5;241;43m.\u001b[39;49m\u001b[43mcalc_stats\u001b[49m\u001b[43m(\u001b[49m\u001b[43m)\u001b[49m\n",
      "File \u001b[1;32mc:\\Users\\Mathew\\Desktop\\HSR Simulation\\character_template.py:116\u001b[0m, in \u001b[0;36mCharacter.calc_stats\u001b[1;34m(self)\u001b[0m\n\u001b[0;32m    114\u001b[0m q \u001b[38;5;241m=\u001b[39m p[\u001b[38;5;124m'\u001b[39m\u001b[38;5;124mturn\u001b[39m\u001b[38;5;124m'\u001b[39m]\n\u001b[0;32m    115\u001b[0m \u001b[38;5;28;01mfor\u001b[39;00m m \u001b[38;5;129;01min\u001b[39;00m p[\u001b[38;5;124m'\u001b[39m\u001b[38;5;124mstats\u001b[39m\u001b[38;5;124m'\u001b[39m]:\n\u001b[1;32m--> 116\u001b[0m     \u001b[38;5;28mself\u001b[39m\u001b[38;5;241m.\u001b[39mbasic_stats[m] \u001b[38;5;241m-\u001b[39m\u001b[38;5;241m=\u001b[39m p[\u001b[38;5;124m'\u001b[39m\u001b[38;5;124mstats\u001b[39m\u001b[38;5;124m'\u001b[39m][m] \u001b[38;5;241m*\u001b[39m p[\u001b[38;5;124m'\u001b[39m\u001b[38;5;124mstack\u001b[39m\u001b[38;5;124m'\u001b[39m]\n\u001b[0;32m    117\u001b[0m \u001b[38;5;28;01mif\u001b[39;00m p[\u001b[38;5;124m'\u001b[39m\u001b[38;5;124msource\u001b[39m\u001b[38;5;124m'\u001b[39m] \u001b[38;5;241m==\u001b[39m \u001b[38;5;124m'\u001b[39m\u001b[38;5;124mlightcone\u001b[39m\u001b[38;5;124m'\u001b[39m:\n\u001b[0;32m    118\u001b[0m     k \u001b[38;5;241m=\u001b[39m p[\u001b[38;5;124m'\u001b[39m\u001b[38;5;124mfunc\u001b[39m\u001b[38;5;124m'\u001b[39m](\u001b[38;5;28mself\u001b[39m, \u001b[38;5;28mself\u001b[39m\u001b[38;5;241m.\u001b[39minfo[\u001b[38;5;124m'\u001b[39m\u001b[38;5;124mecho\u001b[39m\u001b[38;5;124m'\u001b[39m], \u001b[38;5;28;01mFalse\u001b[39;00m)\n",
      "\u001b[1;31mKeyboardInterrupt\u001b[0m: "
     ]
    }
   ],
   "source": [
    "n = 10000\n",
    "m = 10\n",
    "\n",
    "for i in range(m):\n",
    "    dmg_exp = 0\n",
    "    kill_count = 0\n",
    "    best_timestamp = -float('inf')\n",
    "    for i in range(n):\n",
    "        seele1 = Seele(0,'in_the_night',1,'genius','genius','space')\n",
    "        enemy = Enemy()\n",
    "        seele1.set_attack_relic_mainstats(boot='fixed_speed')\n",
    "        seele1.set_attack_relic_substats(5,5,5,9,9)\n",
    "        battle = Battle(450,[seele1],enemy)\n",
    "        [dmg, kill, kill_timestamp] = battle.progress()\n",
    "        if kill:\n",
    "            kill_count += 1\n",
    "            best_timestamp = max(kill_timestamp, best_timestamp)\n",
    "        else:\n",
    "            dmg_exp += dmg\n",
    "\n",
    "    dmg_exp /= (n - kill_count)\n",
    "\n",
    "    print(round(dmg_exp,1), f'{round(kill_count/n*100,2)}%', round(best_timestamp,2))\n",
    "        "
   ]
  }
 ],
 "metadata": {
  "kernelspec": {
   "display_name": "Python 3",
   "language": "python",
   "name": "python3"
  },
  "language_info": {
   "codemirror_mode": {
    "name": "ipython",
    "version": 3
   },
   "file_extension": ".py",
   "mimetype": "text/x-python",
   "name": "python",
   "nbconvert_exporter": "python",
   "pygments_lexer": "ipython3",
   "version": "3.12.3"
  }
 },
 "nbformat": 4,
 "nbformat_minor": 2
}
