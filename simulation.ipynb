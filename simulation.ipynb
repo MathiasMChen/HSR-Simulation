{
 "cells": [
  {
   "cell_type": "code",
   "execution_count": 1,
   "metadata": {},
   "outputs": [],
   "source": [
    "from pprint import pprint\n",
    "from enemy import Enemy\n",
    "from character import Seele\n",
    "from battle_simulation import Battle"
   ]
  },
  {
   "cell_type": "code",
   "execution_count": 2,
   "metadata": {},
   "outputs": [
    {
     "name": "stdout",
     "output_type": "stream",
     "text": [
      "[5874.167713645439, 14763.67071699403, 18595.265314316002]\n",
      "[11748.335427290878, 29527.34143398806, 37190.530628632005]\n",
      "[17622.50314093632, 46199.17679108267, 55785.79594294801]\n",
      "[20292.579374411518, 53777.283771580216, 64238.189267637106]\n",
      "[35260.506315302395, 103881.54028954246, 120601.41495625582]\n",
      "170.6123047725082\n"
     ]
    },
    {
     "data": {
      "text/plain": [
       "[35260.506315302395, 103881.54028954246, 120601.41495625582]"
      ]
     },
     "execution_count": 2,
     "metadata": {},
     "output_type": "execute_result"
    }
   ],
   "source": [
    "seele = Seele(6,'in_the_night',1,'genius','genius','arena')\n",
    "enemy = Enemy()\n",
    "seele.set_attack_relic_mainstats(boot='attack_rate')\n",
    "\n",
    "seele.set_attack_relic_substats(3,3,3,12,12)\n",
    "print(seele.basic_stats)\n",
    "battle = Battle(450)\n",
    "battle.progress([seele], enemy)"
   ]
  },
  {
   "cell_type": "code",
   "execution_count": 3,
   "metadata": {},
   "outputs": [
    {
     "data": {
      "text/plain": [
       "{'a': 1}"
      ]
     },
     "execution_count": 3,
     "metadata": {},
     "output_type": "execute_result"
    }
   ],
   "source": [
    "a = {'a':1, **({'b':2} if False else {})}\n",
    "a"
   ]
  }
 ],
 "metadata": {
  "kernelspec": {
   "display_name": "Python 3",
   "language": "python",
   "name": "python3"
  },
  "language_info": {
   "codemirror_mode": {
    "name": "ipython",
    "version": 3
   },
   "file_extension": ".py",
   "mimetype": "text/x-python",
   "name": "python",
   "nbconvert_exporter": "python",
   "pygments_lexer": "ipython3",
   "version": "3.12.3"
  }
 },
 "nbformat": 4,
 "nbformat_minor": 2
}
