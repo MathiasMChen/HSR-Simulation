{
 "cells": [
  {
   "cell_type": "code",
   "execution_count": 1,
   "metadata": {},
   "outputs": [],
   "source": [
    "from pprint import pprint\n",
    "from enemy import Enemy\n",
    "from character import Seele\n",
    "from battle_simulation import Battle\n",
    "from random import randint"
   ]
  },
  {
   "cell_type": "code",
   "execution_count": 2,
   "metadata": {},
   "outputs": [
    {
     "name": "stdout",
     "output_type": "stream",
     "text": [
      "Seele casts skill!\n",
      "[6692, 17285, 20274]\n",
      "388\n",
      "Seele casts skill!\n",
      "[12331, 28500, 36299]\n",
      "386\n",
      "Seele casts skill!\n",
      "[17203, 37307, 49511]\n",
      "384\n",
      "Seele casts basic!\n",
      "[19157, 40521, 54557]\n",
      "382\n",
      "Seele casts skill!\n",
      "[25849, 57806, 74832]\n",
      "336\n",
      "Seele casts basic!\n",
      "[28180, 62440, 81454]\n",
      "333\n",
      "Seele casts skill!\n",
      "[33051, 71248, 94665]\n",
      "329\n",
      "Seele casts basic!\n",
      "[35005, 74461, 99711]\n",
      "328\n",
      "Seele casts skill!\n",
      "[41698, 91747, 119986]\n",
      "291\n",
      "Seele casts basic!\n",
      "[43948, 96222, 126381]\n",
      "290\n",
      "Seele casts skill!\n",
      "[48819, 105030, 139592]\n",
      "282\n",
      "Seele casts basic!\n",
      "[50774, 108243, 144639]\n",
      "274\n",
      "Seele casts skill!\n",
      "[57466, 127566, 164913]\n",
      "246\n",
      "Seele casts ultimate!\n",
      "[71946, 185533, 226158]\n",
      "246\n",
      "Seele casts basic!\n",
      "[74197, 190630, 232552]\n",
      "239\n",
      "Seele casts skill!\n",
      "[79068, 200689, 245764]\n",
      "234\n",
      "Seele casts ultimate!\n",
      "[90847, 230284, 286187]\n",
      "234\n",
      "Seele casts basic!\n",
      "[92801, 233498, 291234]\n",
      "219\n",
      "Seele casts skill!\n",
      "[99493, 252820, 311508]\n",
      "200\n",
      "Seele casts basic!\n",
      "[101743, 257917, 317903]\n",
      "189\n",
      "Seele casts ultimate!\n",
      "[114593, 292313, 362125]\n",
      "189\n",
      "Seele casts skill!\n",
      "[119464, 302372, 375337]\n",
      "187\n",
      "Seele casts basic!\n",
      "[121418, 305586, 380383]\n",
      "165\n",
      "Seele casts skill!\n",
      "[128111, 324908, 400657]\n",
      "155\n",
      "Seele casts basic!\n",
      "[130325, 329480, 406663]\n",
      "139\n",
      "Seele casts skill!\n",
      "[135965, 342253, 422688]\n",
      "138\n",
      "Seele casts basic!\n",
      "[137919, 345466, 427735]\n",
      "111\n",
      "Seele casts ultimate!\n",
      "[149079, 366000, 461913]\n",
      "111\n",
      "Seele casts skill!\n",
      "[155772, 385322, 482187]\n",
      "110\n",
      "Seele casts basic!\n",
      "[157910, 389738, 487987]\n",
      "101\n",
      "Seele casts skill!\n",
      "[163550, 402510, 504012]\n",
      "85\n",
      "Seele casts basic!\n",
      "[166592, 411293, 513228]\n",
      "65\n",
      "Seele casts ultimate!\n",
      "[181072, 469261, 574472]\n",
      "65\n",
      "Seele casts skill!\n",
      "[185688, 476851, 586392]\n",
      "57\n",
      "Seele casts basic!\n",
      "[187826, 481266, 592192]\n",
      "49\n",
      "Seele casts skill!\n",
      "[193466, 494039, 608217]\n",
      "38\n",
      "Seele casts basic!\n",
      "[196508, 502822, 617433]\n",
      "28\n"
     ]
    },
    {
     "data": {
      "text/plain": [
       "[196508, 502822, 617433]"
      ]
     },
     "execution_count": 2,
     "metadata": {},
     "output_type": "execute_result"
    }
   ],
   "source": [
    "seele1 = Seele(6,'in_the_night',5,'genius','genius','arena')\n",
    "seele2 = Seele(0,'in_the_night',1,'genius','genius','arena')\n",
    "seele3 = Seele(2,'in_the_night',1,'genius','genius','arena')\n",
    "seele4 = Seele(4,'in_the_night',1,'genius','genius','arena')\n",
    "enemy = Enemy()\n",
    "seele1.set_attack_relic_mainstats(boot='fixed_speed')\n",
    "seele1.set_attack_relic_substats(8.1,9,9,10.8,9.9)\n",
    "seele2.set_attack_relic_mainstats()\n",
    "seele2.set_attack_relic_substats(3,3,3,3,3)\n",
    "seele3.set_attack_relic_mainstats()\n",
    "seele3.set_attack_relic_substats(5,5,5,5,5)\n",
    "seele4.set_attack_relic_mainstats()\n",
    "seele4.set_attack_relic_substats(7,7,7,7,7)\n",
    "battle = Battle(450)\n",
    "battle.progress([seele1,seele2,seele3,seele4], enemy)"
   ]
  },
  {
   "cell_type": "code",
   "execution_count": 3,
   "metadata": {},
   "outputs": [
    {
     "data": {
      "text/plain": [
       "{'a': 1}"
      ]
     },
     "execution_count": 3,
     "metadata": {},
     "output_type": "execute_result"
    }
   ],
   "source": [
    "a = {'a':1, **({'b':2} if False else {})}\n",
    "a"
   ]
  }
 ],
 "metadata": {
  "kernelspec": {
   "display_name": "Python 3",
   "language": "python",
   "name": "python3"
  },
  "language_info": {
   "codemirror_mode": {
    "name": "ipython",
    "version": 3
   },
   "file_extension": ".py",
   "mimetype": "text/x-python",
   "name": "python",
   "nbconvert_exporter": "python",
   "pygments_lexer": "ipython3",
   "version": "3.12.3"
  }
 },
 "nbformat": 4,
 "nbformat_minor": 2
}
