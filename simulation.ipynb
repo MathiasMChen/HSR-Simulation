{
 "cells": [
  {
   "cell_type": "code",
   "execution_count": 1,
   "metadata": {},
   "outputs": [],
   "source": [
    "from pprint import pprint\n",
    "from enemy import Enemy\n",
    "from character import Seele\n",
    "from battle_simulation import Battle\n",
    "from random import randint"
   ]
  },
  {
   "cell_type": "code",
   "execution_count": 7,
   "metadata": {},
   "outputs": [
    {
     "name": "stdout",
     "output_type": "stream",
     "text": [
      "128372.4 20.14% 90.04\n"
     ]
    }
   ],
   "source": [
    "dmg_exp = 0\n",
    "kill_count = 0\n",
    "best_timestamp = -float('inf')\n",
    "n = 10000\n",
    "\n",
    "for i in range(n):\n",
    "    seele1 = Seele(0,'in_the_night',1,'genius','genius','arena')\n",
    "    enemy = Enemy()\n",
    "    seele1.set_attack_relic_mainstats(boot='fixed_speed')\n",
    "    seele1.set_attack_relic_substats(8.1,9,9,10.8,9.9)\n",
    "    battle = Battle(450,[seele1],enemy)\n",
    "    [dmg, kill, kill_timestamp] = battle.progress()\n",
    "    if kill:\n",
    "        kill_count += 1\n",
    "        best_timestamp = max(kill_timestamp, best_timestamp)\n",
    "    else:\n",
    "        dmg_exp += dmg\n",
    "\n",
    "dmg_exp /= (n - kill_count)\n",
    "\n",
    "print(round(dmg_exp,1), f'{round(kill_count/n*100,2)}%', round(best_timestamp,2))\n",
    "    "
   ]
  },
  {
   "cell_type": "code",
   "execution_count": 3,
   "metadata": {},
   "outputs": [
    {
     "data": {
      "text/plain": [
       "{1: 1, 2: 2, 3: 3, (1, 2, 3): [100, 200, 300]}"
      ]
     },
     "execution_count": 3,
     "metadata": {},
     "output_type": "execute_result"
    }
   ],
   "source": [
    "a = {1:1, 2:2, 3:3}\n",
    "a[1,2,3]=[100,200,300]\n",
    "a"
   ]
  }
 ],
 "metadata": {
  "kernelspec": {
   "display_name": "Python 3",
   "language": "python",
   "name": "python3"
  },
  "language_info": {
   "codemirror_mode": {
    "name": "ipython",
    "version": 3
   },
   "file_extension": ".py",
   "mimetype": "text/x-python",
   "name": "python",
   "nbconvert_exporter": "python",
   "pygments_lexer": "ipython3",
   "version": "3.12.3"
  }
 },
 "nbformat": 4,
 "nbformat_minor": 2
}
