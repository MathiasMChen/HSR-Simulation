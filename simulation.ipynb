{
 "cells": [
  {
   "cell_type": "code",
   "execution_count": 1,
   "metadata": {},
   "outputs": [],
   "source": [
    "from pprint import pprint\n",
    "from enemy import Enemy\n",
    "from character import Seele\n",
    "from battle_simulation import Battle\n",
    "from random import randint"
   ]
  },
  {
   "cell_type": "code",
   "execution_count": 7,
   "metadata": {},
   "outputs": [
    {
     "name": "stdout",
     "output_type": "stream",
     "text": [
      "Seele casts skill!\n",
      "[6263, 14652, 18975]\n",
      "377\n",
      "Seele casts skill!\n",
      "[12527, 29305, 37951]\n",
      "317\n",
      "Enemy moves.\n",
      "307\n",
      "Seele casts skill!\n",
      "[18791, 43958, 56927]\n",
      "258\n",
      "Seele casts basic!\n",
      "[21638, 50618, 65553]\n",
      "198\n",
      "Seele casts ultimate!\n",
      "[36782, 93242, 122338]\n",
      "198\n",
      "Enemy moves.\n",
      "164\n",
      "Seele casts skill!\n",
      "[43046, 107895, 141314]\n",
      "140\n",
      "Seele casts basic!\n",
      "[45893, 114556, 149940]\n",
      "80\n",
      "Seele casts skill!\n",
      "[52157, 129208, 168916]\n",
      "32\n",
      "Enemy moves.\n",
      "21\n"
     ]
    },
    {
     "data": {
      "text/plain": [
       "[52157, 129208, 168916]"
      ]
     },
     "execution_count": 7,
     "metadata": {},
     "output_type": "execute_result"
    }
   ],
   "source": [
    "seele1 = Seele(6,'in_the_night',5,'genius','genius','arena')\n",
    "seele2 = Seele(0,'in_the_night',1,'genius','genius','arena')\n",
    "seele3 = Seele(2,'in_the_night',1,'genius','genius','arena')\n",
    "seele4 = Seele(4,'in_the_night',1,'genius','genius','arena')\n",
    "enemy = Enemy()\n",
    "seele1.set_attack_relic_mainstats(boot='fixed_speed')\n",
    "seele1.set_attack_relic_substats(8.1,9,9,10.8,9.9)\n",
    "seele2.set_attack_relic_mainstats(boot='attack_rate')\n",
    "seele2.set_attack_relic_substats(8.1,9,9,10.8,9.9)\n",
    "seele3.set_attack_relic_mainstats()\n",
    "seele3.set_attack_relic_substats(5,5,5,5,5)\n",
    "seele4.set_attack_relic_mainstats()\n",
    "seele4.set_attack_relic_substats(7,7,7,7,7)\n",
    "battle = Battle(450, 100)\n",
    "battle.progress([seele2, enemy], enemy)"
   ]
  },
  {
   "cell_type": "code",
   "execution_count": 3,
   "metadata": {},
   "outputs": [
    {
     "data": {
      "text/plain": [
       "False"
      ]
     },
     "execution_count": 3,
     "metadata": {},
     "output_type": "execute_result"
    }
   ],
   "source": [
    "[] == None"
   ]
  }
 ],
 "metadata": {
  "kernelspec": {
   "display_name": "Python 3",
   "language": "python",
   "name": "python3"
  },
  "language_info": {
   "codemirror_mode": {
    "name": "ipython",
    "version": 3
   },
   "file_extension": ".py",
   "mimetype": "text/x-python",
   "name": "python",
   "nbconvert_exporter": "python",
   "pygments_lexer": "ipython3",
   "version": "3.12.3"
  }
 },
 "nbformat": 4,
 "nbformat_minor": 2
}
