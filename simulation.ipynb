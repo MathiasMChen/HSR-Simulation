{
 "cells": [
  {
   "cell_type": "code",
   "execution_count": 1,
   "metadata": {},
   "outputs": [],
   "source": [
    "from pprint import pprint\n",
    "from enemy import Enemy\n",
    "from character import Seele\n",
    "from battle_simulation import Battle\n",
    "from random import randint"
   ]
  },
  {
   "cell_type": "code",
   "execution_count": 2,
   "metadata": {},
   "outputs": [
    {
     "name": "stdout",
     "output_type": "stream",
     "text": [
      "[297343, False, -inf]\n"
     ]
    }
   ],
   "source": [
    "seele1 = Seele(6,'in_the_night',1,'genius','genius','salsotto')\n",
    "enemy = Enemy()\n",
    "seele1.set_attack_relic_mainstats(boot='fixed_speed')\n",
    "seele1.set_attack_relic_substats(8.1,9,9,10.8,9.9)\n",
    "battle = Battle(450,[seele1],enemy)\n",
    "print(battle.progress())"
   ]
  },
  {
   "cell_type": "code",
   "execution_count": 3,
   "metadata": {},
   "outputs": [
    {
     "name": "stdout",
     "output_type": "stream",
     "text": [
      "1\n",
      "3\n"
     ]
    }
   ],
   "source": [
    "a = {1:1, 2:3}\n",
    "for i in a.values():\n",
    "    print(i)"
   ]
  }
 ],
 "metadata": {
  "kernelspec": {
   "display_name": "Python 3",
   "language": "python",
   "name": "python3"
  },
  "language_info": {
   "codemirror_mode": {
    "name": "ipython",
    "version": 3
   },
   "file_extension": ".py",
   "mimetype": "text/x-python",
   "name": "python",
   "nbconvert_exporter": "python",
   "pygments_lexer": "ipython3",
   "version": "3.12.3"
  }
 },
 "nbformat": 4,
 "nbformat_minor": 2
}
