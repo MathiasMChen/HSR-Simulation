{
 "cells": [
  {
   "cell_type": "code",
   "execution_count": 1,
   "metadata": {},
   "outputs": [],
   "source": [
    "from pprint import pprint\n",
    "from enemy import Enemy\n",
    "from character import Seele\n",
    "from battle_simulation import Battle\n",
    "from random import randint"
   ]
  },
  {
   "cell_type": "code",
   "execution_count": 4,
   "metadata": {},
   "outputs": [
    {
     "name": "stdout",
     "output_type": "stream",
     "text": [
      "Seele casts skill!\n",
      "[6692.283374008321, 17285.252707681608, 20274.406327225686]\n",
      "388\n",
      "Seele casts skill!\n",
      "[6692.283374008321, 17285.252707681608, 20274.406327225686]\n",
      "336\n",
      "Enemy moves.\n",
      "307\n",
      "Seele casts skill!\n",
      "[6692.283374008321, 17285.252707681608, 20274.406327225686]\n",
      "291\n",
      "Seele casts basic!\n",
      "[3041.9469881856003, 8782.986886665552, 9215.639239648039]\n",
      "Seele breaks enemy's toughness!\n",
      "246\n",
      "Seele casts ultimate!\n",
      "[16089.192005529601, 64408.17682623945, 68049.55937122756]\n",
      "246\n",
      "Seele casts skill!\n",
      "[7435.8704155648, 21469.523500738014, 22527.118141361872]\n",
      "Seele E6 on-hit triggers!\n",
      "[1477.3009866854402, 5913.924275582776, 6248.274069205803]\n",
      "197\n",
      "Seele casts basic!\n",
      "[3379.9410979840004, 9758.87431851728, 10239.599155164487]\n",
      "Seele E6 on-hit triggers!\n",
      "[1477.3009866854402, 5913.924275582776, 6248.274069205803]\n",
      "145\n",
      "Seele casts skill!\n",
      "[7435.8704155648, 21469.523500738014, 22527.118141361872]\n",
      "Seele E6 on-hit triggers!\n",
      "[1477.3009866854402, 5913.924275582776, 6248.274069205803]\n",
      "103\n",
      "Enemy moves.\n",
      "Enemy recovers from break.\n",
      "[42384.974625]\n",
      "100\n",
      "Seele casts basic!\n",
      "[3041.9469881856003, 8782.986886665552, 9215.639239648039]\n",
      "58\n"
     ]
    },
    {
     "data": {
      "text/plain": [
       "[111556, 250893, 267966]"
      ]
     },
     "execution_count": 4,
     "metadata": {},
     "output_type": "execute_result"
    }
   ],
   "source": [
    "seele1 = Seele(6,'in_the_night',5,'genius','genius','arena')\n",
    "seele2 = Seele(0,'in_the_night',1,'genius','genius','arena')\n",
    "seele3 = Seele(2,'in_the_night',1,'genius','genius','arena')\n",
    "seele4 = Seele(4,'in_the_night',1,'genius','genius','arena')\n",
    "enemy = Enemy()\n",
    "seele1.set_attack_relic_mainstats(boot='fixed_speed')\n",
    "seele1.set_attack_relic_substats(8.1,9,9,10.8,9.9)\n",
    "seele2.set_attack_relic_mainstats(boot='attack_rate')\n",
    "seele2.set_attack_relic_substats(8.1,9,9,10.8,9.9)\n",
    "seele3.set_attack_relic_mainstats()\n",
    "seele3.set_attack_relic_substats(5,5,5,5,5)\n",
    "seele4.set_attack_relic_mainstats()\n",
    "seele4.set_attack_relic_substats(7,7,7,7,7)\n",
    "battle = Battle(450)\n",
    "battle.progress([seele1, enemy], enemy)"
   ]
  },
  {
   "cell_type": "code",
   "execution_count": 3,
   "metadata": {},
   "outputs": [
    {
     "data": {
      "text/plain": [
       "{1: 1, 2: 2, 3: 3, (1, 2, 3): [100, 200, 300]}"
      ]
     },
     "execution_count": 3,
     "metadata": {},
     "output_type": "execute_result"
    }
   ],
   "source": [
    "a = {1:1, 2:2, 3:3}\n",
    "a[1,2,3]=[100,200,300]\n",
    "a"
   ]
  }
 ],
 "metadata": {
  "kernelspec": {
   "display_name": "Python 3",
   "language": "python",
   "name": "python3"
  },
  "language_info": {
   "codemirror_mode": {
    "name": "ipython",
    "version": 3
   },
   "file_extension": ".py",
   "mimetype": "text/x-python",
   "name": "python",
   "nbconvert_exporter": "python",
   "pygments_lexer": "ipython3",
   "version": "3.12.3"
  }
 },
 "nbformat": 4,
 "nbformat_minor": 2
}
